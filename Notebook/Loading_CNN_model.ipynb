{
 "cells": [
  {
   "cell_type": "code",
   "execution_count": 1,
   "metadata": {},
   "outputs": [
    {
     "data": {
      "image/png": "[encoded data removed]",
      "text/plain": [
       "<Figure size 640x480 with 1 Axes>"
      ]
     },
     "metadata": {},
     "output_type": "display_data"
    },
    {
     "name": "stdout",
     "output_type": "stream",
     "text": [
      "1/1 [==============================] - 5s 5s/step\n",
      "Predicted label: Close-Eyes\n"
     ]
    }
   ],
   "source": [
    "import numpy as np\n",
    "import matplotlib.pyplot as plt\n",
    "from tensorflow.keras.preprocessing import image as keras_image\n",
    "from tensorflow.keras.preprocessing.image import img_to_array\n",
    "from tensorflow.keras.models import load_model\n",
    "\n",
    "# Load the model\n",
    "model = load_model('../Models/model2.h5')\n",
    "\n",
    "def predict_and_display_single_image(image_path, class_names, model):\n",
    "    # Load and preprocess the image\n",
    "    img = keras_image.load_img(image_path, target_size=(86, 86))  # Resize to match model input size\n",
    "    img_array = img_to_array(img)  # Convert to numpy array\n",
    "    img_array = np.expand_dims(img_array, axis=0)  # Add batch dimension\n",
    "    img_array = img_array.astype('float32') / 255.0  # Normalize the image\n",
    "\n",
    "    # Display the input image\n",
    "    plt.imshow(img)\n",
    "    plt.axis('off')\n",
    "    plt.show()\n",
    "\n",
    "    # Predict the label\n",
    "    batch_prediction = model.predict(img_array)\n",
    "    predicted_label = class_names[0] if batch_prediction[0][0] < 0.5 else class_names[1]\n",
    "\n",
    "    print(\"Predicted label:\", predicted_label)\n",
    "\n",
    "# Example class names\n",
    "class_names = ['Close-Eyes', 'Open-Eyes']\n",
    "\n",
    "# Path to the image\n",
    "image_path = \"../Dataset/Close-Eyes/s0001_00102_0_0_0_0_0_01.png\"\n",
    "\n",
    "# Predict and display\n",
    "predict_and_display_single_image(image_path=image_path, class_names=class_names, model=model)"
   ]
  },
  {
   "cell_type": "code",
   "execution_count": null,
   "metadata": {},
   "outputs": [],
   "source": []
  },
  {
   "cell_type": "code",
   "execution_count": null,
   "metadata": {},
   "outputs": [],
   "source": []
  }
 ],
 "metadata": {
  "kernelspec": {
   "display_name": "tengpu",
   "language": "python",
   "name": "python3"
  },
  "language_info": {
   "codemirror_mode": {
    "name": "ipython",
    "version": 3
   },
   "file_extension": ".py",
   "mimetype": "text/x-python",
   "name": "python",
   "nbconvert_exporter": "python",
   "pygments_lexer": "ipython3",
   "version": "3.10.14"
  }
 },
 "nbformat": 4,
 "nbformat_minor": 2
}
